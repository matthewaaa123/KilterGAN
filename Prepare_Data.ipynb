{
  "nbformat": 4,
  "nbformat_minor": 0,
  "metadata": {
    "colab": {
      "provenance": [],
      "toc_visible": true
    },
    "kernelspec": {
      "name": "python3",
      "display_name": "Python 3"
    },
    "language_info": {
      "name": "python"
    }
  },
  "cells": [
    {
      "cell_type": "code",
      "source": [
        "import cv2\n",
        "import numpy as np\n",
        "from PIL import Image\n",
        "import os\n",
        "from sklearn.cluster import KMeans"
      ],
      "metadata": {
        "id": "3KNbXSCl9bCL"
      },
      "execution_count": null,
      "outputs": []
    },
    {
      "cell_type": "code",
      "source": [
        "import zipfile\n",
        "\n",
        "# Path to the zip file\n",
        "zip_filename = '/content/images.zip'  # Replace with the path to your zip file\n",
        "\n",
        "# Path to the directory where you want to extract the files\n",
        "extract_to = '/content/images'  # Replace with the path where you want to extract the files\n",
        "\n",
        "# Create the directory if it doesn't exist\n",
        "os.makedirs(extract_to, exist_ok=True)\n",
        "\n",
        "# Unzip the file\n",
        "with zipfile.ZipFile(zip_filename, 'r') as zip_ref:\n",
        "    zip_ref.extractall(extract_to)\n",
        "\n",
        "print(f'Files have been extracted to {extract_to}')"
      ],
      "metadata": {
        "colab": {
          "base_uri": "https://localhost:8080/"
        },
        "id": "w2nWUoQwGN4V",
        "outputId": "3f8ab7a2-e833-4cbb-92d2-352ea298824b"
      },
      "execution_count": null,
      "outputs": [
        {
          "output_type": "stream",
          "name": "stdout",
          "text": [
            "Files have been extracted to /content/images\n"
          ]
        }
      ]
    },
    {
      "cell_type": "markdown",
      "source": [
        "# Data Preparation"
      ],
      "metadata": {
        "id": "TufbghPiKght"
      }
    },
    {
      "cell_type": "code",
      "source": [
        "def isolate_and_fill_circles(image_path, save_path, fixed_radius=20):\n",
        "    # Load image\n",
        "    img = cv2.imread(image_path, cv2.IMREAD_UNCHANGED)\n",
        "\n",
        "    # Define the color ranges for each circle in HSV format\n",
        "    color_ranges = {\n",
        "        \"purple\": ([140, 50, 50], [160, 255, 255]),\n",
        "        \"blue\": ([90, 50, 50], [130, 255, 255]),\n",
        "        \"orange\": ([10, 100, 100], [25, 255, 255]),\n",
        "        \"green\": ([40, 50, 50], [80, 255, 255])\n",
        "    }\n",
        "\n",
        "    # Define the output colors (in BGR format)\n",
        "    output_colors = {\n",
        "        \"purple\": (190, 74, 199, 255),\n",
        "        \"blue\": (0, 181, 236, 255),\n",
        "        \"orange\": (251, 176, 59, 255),\n",
        "        \"green\": (115, 210, 22, 255)\n",
        "    }\n",
        "\n",
        "    # Convert the image to HSV color space\n",
        "    hsv_img = cv2.cvtColor(img, cv2.COLOR_BGR2HSV)\n",
        "\n",
        "    # Create an empty image for results with a transparent background\n",
        "    result_img = np.zeros((img.shape[0], img.shape[1], 4), dtype=np.uint8)\n",
        "\n",
        "    for color_name, (lower, upper) in color_ranges.items():\n",
        "        lower = np.array(lower, dtype=\"uint8\")\n",
        "        upper = np.array(upper, dtype=\"uint8\")\n",
        "        color_mask = cv2.inRange(hsv_img, lower, upper)\n",
        "\n",
        "        # Detect circles using HoughCircles\n",
        "        circles = cv2.HoughCircles(color_mask, cv2.HOUGH_GRADIENT, dp=1.2, minDist=20, param1=50, param2=30, minRadius=5, maxRadius=30)\n",
        "\n",
        "        if circles is not None:\n",
        "            circles = np.round(circles[0, :]).astype(\"int\")\n",
        "            for (x, y, radius) in circles:\n",
        "                # Draw the filled circle with the mapped output color and fixed radius\n",
        "                cv2.circle(result_img, (x, y), fixed_radius, output_colors[color_name], -1)\n",
        "\n",
        "    # Save the new image\n",
        "    isolated_img_pil = Image.fromarray(result_img)\n",
        "    isolated_img_pil.save(save_path)\n",
        "\n",
        "def resize_image(input_path, output_path, size=(128, 128)):\n",
        "    # Open the image file\n",
        "    img = Image.open(input_path)\n",
        "\n",
        "    # Resize the image\n",
        "    resized_img = img.resize(size, Image.ANTIALIAS)\n",
        "\n",
        "    # Save the resized image\n",
        "    resized_img.save(output_path)\n",
        "\n",
        "def remove_low_opacity_pixels(image_path, output_path, opacity_threshold=180):\n",
        "    # Open the image\n",
        "    image = Image.open(image_path).convert(\"RGBA\")\n",
        "\n",
        "    # Get image data\n",
        "    data = image.getdata()\n",
        "\n",
        "    # Process the pixels\n",
        "    new_data = []\n",
        "    for item in data:\n",
        "        # Change all pixels below the threshold to fully transparent\n",
        "        if item[3] < opacity_threshold:\n",
        "            new_data.append((255, 255, 255, 0))  # White color with 0% opacity (fully transparent)\n",
        "        else:\n",
        "            new_data.append(item)\n",
        "\n",
        "    # Update image data\n",
        "    image.putdata(new_data)\n",
        "\n",
        "    # Save the image\n",
        "    image.save(output_path)"
      ],
      "metadata": {
        "id": "Qij0Dj2D59HJ"
      },
      "execution_count": null,
      "outputs": []
    },
    {
      "cell_type": "code",
      "source": [
        "def process_batch(input_dir, output_dir, processed_dir, opacity_processed_dir, size=(128, 128), fixed_radius=20):\n",
        "    if not os.path.exists(output_dir):\n",
        "        os.makedirs(output_dir)\n",
        "    if not os.path.exists(processed_dir):\n",
        "        os.makedirs(processed_dir)\n",
        "    if not os.path.exists(opacity_processed_dir):\n",
        "        os.makedirs(opacity_processed_dir)\n",
        "\n",
        "    for filename in os.listdir(input_dir):\n",
        "        if filename.endswith('.png'):\n",
        "            input_path = os.path.join(input_dir, filename)\n",
        "            output_path = os.path.join(output_dir, filename)\n",
        "            resized_output_path = os.path.join(processed_dir, filename)\n",
        "            opacity_output_path = os.path.join(opacity_processed_dir, filename)\n",
        "\n",
        "            # Process the image to isolate and fill circles\n",
        "            isolate_and_fill_circles(input_path, output_path, fixed_radius=fixed_radius)\n",
        "\n",
        "            # Resize the processed image\n",
        "            resize_image(output_path, resized_output_path, size=size)\n",
        "\n",
        "            # Opacity filter the processed image\n",
        "            remove_low_opacity_pixels(resized_output_path, opacity_output_path)\n",
        "\n",
        "input_dir = '/content/images'\n",
        "output_dir = '/content/Output'\n",
        "processed_dir = '/content/Processed'\n",
        "opacity_processed_dir = '/content/Opacity'\n",
        "\n",
        "process_batch(input_dir, output_dir, processed_dir, opacity_processed_dir, size=(128, 128), fixed_radius=20)"
      ],
      "metadata": {
        "colab": {
          "base_uri": "https://localhost:8080/"
        },
        "id": "0NGMbdRZ7q86",
        "outputId": "67f75538-8e07-42b1-f2d5-a81e7b6725d3"
      },
      "execution_count": null,
      "outputs": [
        {
          "output_type": "stream",
          "name": "stderr",
          "text": [
            "<ipython-input-3-5cbb264abf84>:50: DeprecationWarning: ANTIALIAS is deprecated and will be removed in Pillow 10 (2023-07-01). Use LANCZOS or Resampling.LANCZOS instead.\n",
            "  resized_img = img.resize(size, Image.ANTIALIAS)\n"
          ]
        }
      ]
    }
  ]
}